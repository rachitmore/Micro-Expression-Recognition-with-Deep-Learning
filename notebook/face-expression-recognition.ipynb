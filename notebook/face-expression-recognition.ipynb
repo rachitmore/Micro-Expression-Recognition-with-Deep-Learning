{
 "cells": [
  {
   "cell_type": "code",
   "execution_count": 1,
   "id": "bca0a5e8",
   "metadata": {
    "_cell_guid": "b1076dfc-b9ad-4769-8c92-a6c4dae69d19",
    "_uuid": "8f2839f25d086af736a60e9eeb907d3b93b6e0e5",
    "execution": {
     "iopub.execute_input": "2023-06-12T10:05:54.221401Z",
     "iopub.status.busy": "2023-06-12T10:05:54.221065Z",
     "iopub.status.idle": "2023-06-12T10:06:01.716921Z",
     "shell.execute_reply": "2023-06-12T10:06:01.716011Z"
    },
    "papermill": {
     "duration": 7.503162,
     "end_time": "2023-06-12T10:06:01.719552",
     "exception": false,
     "start_time": "2023-06-12T10:05:54.216390",
     "status": "completed"
    },
    "tags": []
   },
   "outputs": [
    {
     "name": "stderr",
     "output_type": "stream",
     "text": [
      "/opt/conda/lib/python3.10/site-packages/tensorflow_io/python/ops/__init__.py:98: UserWarning: unable to load libtensorflow_io_plugins.so: unable to open file: libtensorflow_io_plugins.so, from paths: ['/opt/conda/lib/python3.10/site-packages/tensorflow_io/python/ops/libtensorflow_io_plugins.so']\n",
      "caused by: ['/opt/conda/lib/python3.10/site-packages/tensorflow_io/python/ops/libtensorflow_io_plugins.so: undefined symbol: _ZN3tsl6StatusC1EN10tensorflow5error4CodeESt17basic_string_viewIcSt11char_traitsIcEENS_14SourceLocationE']\n",
      "  warnings.warn(f\"unable to load libtensorflow_io_plugins.so: {e}\")\n",
      "/opt/conda/lib/python3.10/site-packages/tensorflow_io/python/ops/__init__.py:104: UserWarning: file system plugins are not loaded: unable to open file: libtensorflow_io.so, from paths: ['/opt/conda/lib/python3.10/site-packages/tensorflow_io/python/ops/libtensorflow_io.so']\n",
      "caused by: ['/opt/conda/lib/python3.10/site-packages/tensorflow_io/python/ops/libtensorflow_io.so: undefined symbol: _ZTVN10tensorflow13GcsFileSystemE']\n",
      "  warnings.warn(f\"file system plugins are not loaded: {e}\")\n"
     ]
    }
   ],
   "source": [
    "import tensorflow as tf"
   ]
  },
  {
   "cell_type": "code",
   "execution_count": 2,
   "id": "33e89d1e",
   "metadata": {
    "execution": {
     "iopub.execute_input": "2023-06-12T10:06:01.727872Z",
     "iopub.status.busy": "2023-06-12T10:06:01.727305Z",
     "iopub.status.idle": "2023-06-12T10:06:01.732550Z",
     "shell.execute_reply": "2023-06-12T10:06:01.731762Z"
    },
    "papermill": {
     "duration": 0.011693,
     "end_time": "2023-06-12T10:06:01.734759",
     "exception": false,
     "start_time": "2023-06-12T10:06:01.723066",
     "status": "completed"
    },
    "tags": []
   },
   "outputs": [],
   "source": [
    "train_dir = \"/kaggle/input/face-expression-recognition-dataset/images/train\"\n",
    "test_dir = \"/kaggle/input/face-expression-recognition-dataset/images/validation\""
   ]
  },
  {
   "cell_type": "code",
   "execution_count": 3,
   "id": "62b964a0",
   "metadata": {
    "execution": {
     "iopub.execute_input": "2023-06-12T10:06:01.741773Z",
     "iopub.status.busy": "2023-06-12T10:06:01.741513Z",
     "iopub.status.idle": "2023-06-12T10:06:24.510536Z",
     "shell.execute_reply": "2023-06-12T10:06:24.509646Z"
    },
    "papermill": {
     "duration": 22.775065,
     "end_time": "2023-06-12T10:06:24.512799",
     "exception": false,
     "start_time": "2023-06-12T10:06:01.737734",
     "status": "completed"
    },
    "tags": []
   },
   "outputs": [
    {
     "name": "stdout",
     "output_type": "stream",
     "text": [
      "Found 23060 images belonging to 7 classes.\n",
      "Found 5761 images belonging to 7 classes.\n",
      "Found 7066 images belonging to 7 classes.\n"
     ]
    }
   ],
   "source": [
    "dataGenerator = tf.keras.preprocessing.image.ImageDataGenerator(rescale=1./255, horizontal_flip=True, validation_split=0.2)\n",
    "\n",
    "training_data = dataGenerator.flow_from_directory(train_dir, batch_size=64, target_size=(48, 48), shuffle=True, color_mode='grayscale', class_mode='categorical', subset='training')\n",
    "validation_set = dataGenerator.flow_from_directory(train_dir, batch_size=64, target_size=(48, 48), shuffle=True, color_mode='grayscale', class_mode='categorical', subset='validation')\n",
    "\n",
    "testDataGenerator = tf.keras.preprocessing.image.ImageDataGenerator(rescale=1./255, horizontal_flip=True)\n",
    "\n",
    "test_data = testDataGenerator.flow_from_directory(test_dir, batch_size=64, target_size=(48, 48), shuffle=True, color_mode='grayscale', class_mode='categorical')"
   ]
  },
  {
   "cell_type": "code",
   "execution_count": 4,
   "id": "526c4760",
   "metadata": {
    "execution": {
     "iopub.execute_input": "2023-06-12T10:06:24.522083Z",
     "iopub.status.busy": "2023-06-12T10:06:24.520668Z",
     "iopub.status.idle": "2023-06-12T10:06:24.535325Z",
     "shell.execute_reply": "2023-06-12T10:06:24.534487Z"
    },
    "papermill": {
     "duration": 0.020969,
     "end_time": "2023-06-12T10:06:24.537231",
     "exception": false,
     "start_time": "2023-06-12T10:06:24.516262",
     "status": "completed"
    },
    "tags": []
   },
   "outputs": [],
   "source": [
    "def create_model():\n",
    "    weight_decay = 1e-4\n",
    "    model = tf.keras.models.Sequential()\n",
    "\n",
    "    model.add(tf.keras.layers.Conv2D(64, (4, 4), padding='same', kernel_regularizer=tf.keras.regularizers.l2(weight_decay), input_shape=(48, 48, 1)))\n",
    "    model.add(tf.keras.layers.Activation('relu'))\n",
    "    model.add(tf.keras.layers.BatchNormalization())\n",
    "    model.add(tf.keras.layers.Conv2D(128, (4, 4), padding='same', kernel_regularizer=tf.keras.regularizers.l2(weight_decay)))\n",
    "    model.add(tf.keras.layers.Activation('relu'))\n",
    "    model.add(tf.keras.layers.BatchNormalization())\n",
    "    model.add(tf.keras.layers.MaxPool2D(pool_size=(2, 2)))\n",
    "    model.add(tf.keras.layers.Dropout(0.2))\n",
    "\n",
    "    model.add(tf.keras.layers.Conv2D(128, (4, 4), padding='same', kernel_regularizer=tf.keras.regularizers.l2(weight_decay)))\n",
    "    model.add(tf.keras.layers.Activation('relu'))\n",
    "    model.add(tf.keras.layers.BatchNormalization())\n",
    "    model.add(tf.keras.layers.MaxPool2D(pool_size=(2, 2)))\n",
    "    model.add(tf.keras.layers.Dropout(0.3))\n",
    "    \n",
    "    model.add(tf.keras.layers.Conv2D(256, (4, 4), padding='same', kernel_regularizer=tf.keras.regularizers.l2(weight_decay)))\n",
    "    model.add(tf.keras.layers.Activation('relu'))\n",
    "    model.add(tf.keras.layers.BatchNormalization())\n",
    "    model.add(tf.keras.layers.Conv2D(64, (4, 4), padding='same', kernel_regularizer=tf.keras.regularizers.l2(weight_decay)))\n",
    "    model.add(tf.keras.layers.Activation('relu'))\n",
    "    model.add(tf.keras.layers.BatchNormalization())\n",
    "    model.add(tf.keras.layers.MaxPool2D(pool_size=(2, 2)))\n",
    "    model.add(tf.keras.layers.Dropout(0.4))\n",
    "    model.add(tf.keras.layers.Flatten())\n",
    "    model.add(tf.keras.layers.Dense(64, activation=\"linear\"))\n",
    "    model.add(tf.keras.layers.Activation('relu'))\n",
    "    model.add(tf.keras.layers.Dense(7, activation='softmax'))\n",
    "    \n",
    "    return model"
   ]
  },
  {
   "cell_type": "code",
   "execution_count": 5,
   "id": "6715b613",
   "metadata": {
    "execution": {
     "iopub.execute_input": "2023-06-12T10:06:24.544865Z",
     "iopub.status.busy": "2023-06-12T10:06:24.544614Z",
     "iopub.status.idle": "2023-06-12T10:06:27.699200Z",
     "shell.execute_reply": "2023-06-12T10:06:27.698284Z"
    },
    "papermill": {
     "duration": 3.161092,
     "end_time": "2023-06-12T10:06:27.701579",
     "exception": false,
     "start_time": "2023-06-12T10:06:24.540487",
     "status": "completed"
    },
    "tags": []
   },
   "outputs": [],
   "source": [
    "model = create_model()\n",
    "\n",
    "model.compile(loss='categorical_crossentropy', optimizer=tf.keras.optimizers.Adam(), metrics=['accuracy'])"
   ]
  },
  {
   "cell_type": "code",
   "execution_count": 6,
   "id": "d5497b89",
   "metadata": {
    "execution": {
     "iopub.execute_input": "2023-06-12T10:06:27.709985Z",
     "iopub.status.busy": "2023-06-12T10:06:27.709677Z",
     "iopub.status.idle": "2023-06-12T10:06:27.765615Z",
     "shell.execute_reply": "2023-06-12T10:06:27.764898Z"
    },
    "papermill": {
     "duration": 0.098002,
     "end_time": "2023-06-12T10:06:27.803142",
     "exception": false,
     "start_time": "2023-06-12T10:06:27.705140",
     "status": "completed"
    },
    "tags": []
   },
   "outputs": [
    {
     "name": "stdout",
     "output_type": "stream",
     "text": [
      "Model: \"sequential\"\n",
      "_________________________________________________________________\n",
      " Layer (type)                Output Shape              Param #   \n",
      "=================================================================\n",
      " conv2d (Conv2D)             (None, 48, 48, 64)        1088      \n",
      "                                                                 \n",
      " activation (Activation)     (None, 48, 48, 64)        0         \n",
      "                                                                 \n",
      " batch_normalization (BatchN  (None, 48, 48, 64)       256       \n",
      " ormalization)                                                   \n",
      "                                                                 \n",
      " conv2d_1 (Conv2D)           (None, 48, 48, 128)       131200    \n",
      "                                                                 \n",
      " activation_1 (Activation)   (None, 48, 48, 128)       0         \n",
      "                                                                 \n",
      " batch_normalization_1 (Batc  (None, 48, 48, 128)      512       \n",
      " hNormalization)                                                 \n",
      "                                                                 \n",
      " max_pooling2d (MaxPooling2D  (None, 24, 24, 128)      0         \n",
      " )                                                               \n",
      "                                                                 \n",
      " dropout (Dropout)           (None, 24, 24, 128)       0         \n",
      "                                                                 \n",
      " conv2d_2 (Conv2D)           (None, 24, 24, 128)       262272    \n",
      "                                                                 \n",
      " activation_2 (Activation)   (None, 24, 24, 128)       0         \n",
      "                                                                 \n",
      " batch_normalization_2 (Batc  (None, 24, 24, 128)      512       \n",
      " hNormalization)                                                 \n",
      "                                                                 \n",
      " max_pooling2d_1 (MaxPooling  (None, 12, 12, 128)      0         \n",
      " 2D)                                                             \n",
      "                                                                 \n",
      " dropout_1 (Dropout)         (None, 12, 12, 128)       0         \n",
      "                                                                 \n",
      " conv2d_3 (Conv2D)           (None, 12, 12, 256)       524544    \n",
      "                                                                 \n",
      " activation_3 (Activation)   (None, 12, 12, 256)       0         \n",
      "                                                                 \n",
      " batch_normalization_3 (Batc  (None, 12, 12, 256)      1024      \n",
      " hNormalization)                                                 \n",
      "                                                                 \n",
      " conv2d_4 (Conv2D)           (None, 12, 12, 64)        262208    \n",
      "                                                                 \n",
      " activation_4 (Activation)   (None, 12, 12, 64)        0         \n",
      "                                                                 \n",
      " batch_normalization_4 (Batc  (None, 12, 12, 64)       256       \n",
      " hNormalization)                                                 \n",
      "                                                                 \n",
      " max_pooling2d_2 (MaxPooling  (None, 6, 6, 64)         0         \n",
      " 2D)                                                             \n",
      "                                                                 \n",
      " dropout_2 (Dropout)         (None, 6, 6, 64)          0         \n",
      "                                                                 \n",
      " flatten (Flatten)           (None, 2304)              0         \n",
      "                                                                 \n",
      " dense (Dense)               (None, 64)                147520    \n",
      "                                                                 \n",
      " activation_5 (Activation)   (None, 64)                0         \n",
      "                                                                 \n",
      " dense_1 (Dense)             (None, 7)                 455       \n",
      "                                                                 \n",
      "=================================================================\n",
      "Total params: 1,331,847\n",
      "Trainable params: 1,330,567\n",
      "Non-trainable params: 1,280\n",
      "_________________________________________________________________\n"
     ]
    }
   ],
   "source": [
    "model.summary()"
   ]
  },
  {
   "cell_type": "code",
   "execution_count": 7,
   "id": "e2951721",
   "metadata": {
    "execution": {
     "iopub.execute_input": "2023-06-12T10:06:27.820809Z",
     "iopub.status.busy": "2023-06-12T10:06:27.820539Z",
     "iopub.status.idle": "2023-06-12T10:06:27.825163Z",
     "shell.execute_reply": "2023-06-12T10:06:27.824452Z"
    },
    "papermill": {
     "duration": 0.016038,
     "end_time": "2023-06-12T10:06:27.827198",
     "exception": false,
     "start_time": "2023-06-12T10:06:27.811160",
     "status": "completed"
    },
    "tags": []
   },
   "outputs": [],
   "source": [
    "checkpointer = [tf.keras.callbacks.EarlyStopping(monitor = 'val_accuracy', verbose = 1, restore_best_weights=True, mode=\"max\",patience = 10),\n",
    "                tf.keras.callbacks.ModelCheckpoint(\n",
    "                    filepath='/kaggle/working/model-{epoch}.hdf5',\n",
    "                    monitor=\"val_accuracy\",\n",
    "                    verbose=1,\n",
    "                    mode=\"max\")]"
   ]
  },
  {
   "cell_type": "code",
   "execution_count": 8,
   "id": "2496839e",
   "metadata": {
    "execution": {
     "iopub.execute_input": "2023-06-12T10:06:27.844029Z",
     "iopub.status.busy": "2023-06-12T10:06:27.843731Z",
     "iopub.status.idle": "2023-06-12T10:21:27.894736Z",
     "shell.execute_reply": "2023-06-12T10:21:27.893708Z"
    },
    "papermill": {
     "duration": 900.061699,
     "end_time": "2023-06-12T10:21:27.896820",
     "exception": false,
     "start_time": "2023-06-12T10:06:27.835121",
     "status": "completed"
    },
    "tags": []
   },
   "outputs": [
    {
     "name": "stdout",
     "output_type": "stream",
     "text": [
      "Epoch 1/100\n"
     ]
    },
    {
     "name": "stderr",
     "output_type": "stream",
     "text": [
      "2023-06-12 10:06:29.833656: E tensorflow/core/grappler/optimizers/meta_optimizer.cc:954] layout failed: INVALID_ARGUMENT: Size of values 0 does not match size of permutation 4 @ fanin shape insequential/dropout/dropout/SelectV2-2-TransposeNHWCToNCHW-LayoutOptimizer\n"
     ]
    },
    {
     "name": "stdout",
     "output_type": "stream",
     "text": [
      "360/360 [==============================] - ETA: 0s - loss: 1.7779 - accuracy: 0.3187\n",
      "Epoch 1: saving model to /kaggle/working/model-1.hdf5\n",
      "360/360 [==============================] - 141s 361ms/step - loss: 1.7779 - accuracy: 0.3187 - val_loss: 1.8733 - val_accuracy: 0.2415\n",
      "Epoch 2/100\n",
      "360/360 [==============================] - ETA: 0s - loss: 1.5027 - accuracy: 0.4375\n",
      "Epoch 2: saving model to /kaggle/working/model-2.hdf5\n",
      "360/360 [==============================] - 25s 68ms/step - loss: 1.5027 - accuracy: 0.4375 - val_loss: 1.6804 - val_accuracy: 0.3519\n",
      "Epoch 3/100\n",
      "360/360 [==============================] - ETA: 0s - loss: 1.3701 - accuracy: 0.4984\n",
      "Epoch 3: saving model to /kaggle/working/model-3.hdf5\n",
      "360/360 [==============================] - 26s 71ms/step - loss: 1.3701 - accuracy: 0.4984 - val_loss: 1.7421 - val_accuracy: 0.3545\n",
      "Epoch 4/100\n",
      "360/360 [==============================] - ETA: 0s - loss: 1.2877 - accuracy: 0.5364\n",
      "Epoch 4: saving model to /kaggle/working/model-4.hdf5\n",
      "360/360 [==============================] - 26s 72ms/step - loss: 1.2877 - accuracy: 0.5364 - val_loss: 1.3932 - val_accuracy: 0.4903\n",
      "Epoch 5/100\n",
      "359/360 [============================>.] - ETA: 0s - loss: 1.2496 - accuracy: 0.5573\n",
      "Epoch 5: saving model to /kaggle/working/model-5.hdf5\n",
      "360/360 [==============================] - 25s 69ms/step - loss: 1.2492 - accuracy: 0.5573 - val_loss: 1.2799 - val_accuracy: 0.5533\n",
      "Epoch 6/100\n",
      "360/360 [==============================] - ETA: 0s - loss: 1.2050 - accuracy: 0.5799\n",
      "Epoch 6: saving model to /kaggle/working/model-6.hdf5\n",
      "360/360 [==============================] - 25s 69ms/step - loss: 1.2050 - accuracy: 0.5799 - val_loss: 1.3353 - val_accuracy: 0.5339\n",
      "Epoch 7/100\n",
      "360/360 [==============================] - ETA: 0s - loss: 1.1858 - accuracy: 0.5949\n",
      "Epoch 7: saving model to /kaggle/working/model-7.hdf5\n",
      "360/360 [==============================] - 26s 73ms/step - loss: 1.1858 - accuracy: 0.5949 - val_loss: 1.2860 - val_accuracy: 0.5516\n",
      "Epoch 8/100\n",
      "360/360 [==============================] - ETA: 0s - loss: 1.1616 - accuracy: 0.6096\n",
      "Epoch 8: saving model to /kaggle/working/model-8.hdf5\n",
      "360/360 [==============================] - 26s 71ms/step - loss: 1.1616 - accuracy: 0.6096 - val_loss: 1.2791 - val_accuracy: 0.5693\n",
      "Epoch 9/100\n",
      "359/360 [============================>.] - ETA: 0s - loss: 1.1513 - accuracy: 0.6255\n",
      "Epoch 9: saving model to /kaggle/working/model-9.hdf5\n",
      "360/360 [==============================] - 25s 70ms/step - loss: 1.1523 - accuracy: 0.6250 - val_loss: 1.3882 - val_accuracy: 0.5286\n",
      "Epoch 10/100\n",
      "360/360 [==============================] - ETA: 0s - loss: 1.1354 - accuracy: 0.6397\n",
      "Epoch 10: saving model to /kaggle/working/model-10.hdf5\n",
      "360/360 [==============================] - 25s 70ms/step - loss: 1.1354 - accuracy: 0.6397 - val_loss: 1.4790 - val_accuracy: 0.5418\n",
      "Epoch 11/100\n",
      "360/360 [==============================] - ETA: 0s - loss: 1.1370 - accuracy: 0.6421\n",
      "Epoch 11: saving model to /kaggle/working/model-11.hdf5\n",
      "360/360 [==============================] - 25s 69ms/step - loss: 1.1370 - accuracy: 0.6421 - val_loss: 1.2626 - val_accuracy: 0.6024\n",
      "Epoch 12/100\n",
      "360/360 [==============================] - ETA: 0s - loss: 1.1225 - accuracy: 0.6529\n",
      "Epoch 12: saving model to /kaggle/working/model-12.hdf5\n",
      "360/360 [==============================] - 25s 69ms/step - loss: 1.1225 - accuracy: 0.6529 - val_loss: 1.3084 - val_accuracy: 0.6014\n",
      "Epoch 13/100\n",
      "360/360 [==============================] - ETA: 0s - loss: 1.1122 - accuracy: 0.6669\n",
      "Epoch 13: saving model to /kaggle/working/model-13.hdf5\n",
      "360/360 [==============================] - 26s 71ms/step - loss: 1.1122 - accuracy: 0.6669 - val_loss: 1.3201 - val_accuracy: 0.6014\n",
      "Epoch 14/100\n",
      "360/360 [==============================] - ETA: 0s - loss: 1.1195 - accuracy: 0.6696\n",
      "Epoch 14: saving model to /kaggle/working/model-14.hdf5\n",
      "360/360 [==============================] - 25s 69ms/step - loss: 1.1195 - accuracy: 0.6696 - val_loss: 1.2744 - val_accuracy: 0.6193\n",
      "Epoch 15/100\n",
      "360/360 [==============================] - ETA: 0s - loss: 1.1125 - accuracy: 0.6785\n",
      "Epoch 15: saving model to /kaggle/working/model-15.hdf5\n",
      "360/360 [==============================] - 25s 69ms/step - loss: 1.1125 - accuracy: 0.6785 - val_loss: 1.3384 - val_accuracy: 0.6019\n",
      "Epoch 16/100\n",
      "360/360 [==============================] - ETA: 0s - loss: 1.0925 - accuracy: 0.6911\n",
      "Epoch 16: saving model to /kaggle/working/model-16.hdf5\n",
      "360/360 [==============================] - 26s 71ms/step - loss: 1.0925 - accuracy: 0.6911 - val_loss: 1.3261 - val_accuracy: 0.6184\n",
      "Epoch 17/100\n",
      "359/360 [============================>.] - ETA: 0s - loss: 1.0924 - accuracy: 0.6961\n",
      "Epoch 17: saving model to /kaggle/working/model-17.hdf5\n",
      "360/360 [==============================] - 26s 73ms/step - loss: 1.0929 - accuracy: 0.6959 - val_loss: 1.3602 - val_accuracy: 0.6139\n",
      "Epoch 18/100\n",
      "360/360 [==============================] - ETA: 0s - loss: 1.0884 - accuracy: 0.7043\n",
      "Epoch 18: saving model to /kaggle/working/model-18.hdf5\n",
      "360/360 [==============================] - 26s 73ms/step - loss: 1.0884 - accuracy: 0.7043 - val_loss: 1.3973 - val_accuracy: 0.6068\n",
      "Epoch 19/100\n",
      "360/360 [==============================] - ETA: 0s - loss: 1.0811 - accuracy: 0.7109\n",
      "Epoch 19: saving model to /kaggle/working/model-19.hdf5\n",
      "360/360 [==============================] - 28s 78ms/step - loss: 1.0811 - accuracy: 0.7109 - val_loss: 1.4094 - val_accuracy: 0.5997\n",
      "Epoch 20/100\n",
      "360/360 [==============================] - ETA: 0s - loss: 1.0801 - accuracy: 0.7148\n",
      "Epoch 20: saving model to /kaggle/working/model-20.hdf5\n",
      "360/360 [==============================] - 27s 75ms/step - loss: 1.0801 - accuracy: 0.7148 - val_loss: 1.4259 - val_accuracy: 0.6149\n",
      "Epoch 21/100\n",
      "360/360 [==============================] - ETA: 0s - loss: 1.0750 - accuracy: 0.7216\n",
      "Epoch 21: saving model to /kaggle/working/model-21.hdf5\n",
      "360/360 [==============================] - 27s 74ms/step - loss: 1.0750 - accuracy: 0.7216 - val_loss: 1.4633 - val_accuracy: 0.6045\n",
      "Epoch 22/100\n",
      "360/360 [==============================] - ETA: 0s - loss: 1.0737 - accuracy: 0.7260\n",
      "Epoch 22: saving model to /kaggle/working/model-22.hdf5\n",
      "360/360 [==============================] - 26s 73ms/step - loss: 1.0737 - accuracy: 0.7260 - val_loss: 1.4425 - val_accuracy: 0.6116\n",
      "Epoch 23/100\n",
      "360/360 [==============================] - ETA: 0s - loss: 1.0703 - accuracy: 0.7323\n",
      "Epoch 23: saving model to /kaggle/working/model-23.hdf5\n",
      "360/360 [==============================] - 26s 71ms/step - loss: 1.0703 - accuracy: 0.7323 - val_loss: 1.4120 - val_accuracy: 0.6130\n",
      "Epoch 24/100\n",
      "360/360 [==============================] - ETA: 0s - loss: 1.0613 - accuracy: 0.7384Restoring model weights from the end of the best epoch: 14.\n",
      "\n",
      "Epoch 24: saving model to /kaggle/working/model-24.hdf5\n",
      "360/360 [==============================] - 26s 73ms/step - loss: 1.0613 - accuracy: 0.7384 - val_loss: 1.5619 - val_accuracy: 0.5917\n",
      "Epoch 24: early stopping\n"
     ]
    }
   ],
   "source": [
    "steps_per_epoch = training_data.n // training_data.batch_size\n",
    "validation_steps = validation_set.n // validation_set.batch_size\n",
    "\n",
    "history = model.fit(x=training_data,\n",
    "                 validation_data=validation_set,\n",
    "                 epochs=100,\n",
    "                 callbacks=[checkpointer],\n",
    "                 steps_per_epoch=steps_per_epoch,\n",
    "                 validation_steps=validation_steps)"
   ]
  },
  {
   "cell_type": "code",
   "execution_count": null,
   "id": "d79aa11c",
   "metadata": {
    "papermill": {
     "duration": 0.616433,
     "end_time": "2023-06-12T10:21:29.131473",
     "exception": false,
     "start_time": "2023-06-12T10:21:28.515040",
     "status": "completed"
    },
    "tags": []
   },
   "outputs": [],
   "source": []
  }
 ],
 "metadata": {
  "kernelspec": {
   "display_name": "Python 3",
   "language": "python",
   "name": "python3"
  },
  "language_info": {
   "codemirror_mode": {
    "name": "ipython",
    "version": 3
   },
   "file_extension": ".py",
   "mimetype": "text/x-python",
   "name": "python",
   "nbconvert_exporter": "python",
   "pygments_lexer": "ipython3",
   "version": "3.10.10"
  },
  "papermill": {
   "default_parameters": {},
   "duration": 949.096911,
   "end_time": "2023-06-12T10:21:33.230805",
   "environment_variables": {},
   "exception": null,
   "input_path": "__notebook__.ipynb",
   "output_path": "__notebook__.ipynb",
   "parameters": {},
   "start_time": "2023-06-12T10:05:44.133894",
   "version": "2.4.0"
  }
 },
 "nbformat": 4,
 "nbformat_minor": 5
}
