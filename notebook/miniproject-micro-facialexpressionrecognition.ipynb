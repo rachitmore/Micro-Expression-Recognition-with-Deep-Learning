{
 "cells": [
  {
   "cell_type": "code",
   "execution_count": 1,
   "metadata": {
    "execution": {
     "iopub.execute_input": "2023-11-24T13:19:33.979277Z",
     "iopub.status.busy": "2023-11-24T13:19:33.978891Z",
     "iopub.status.idle": "2023-11-24T13:19:37.109920Z",
     "shell.execute_reply": "2023-11-24T13:19:37.108191Z",
     "shell.execute_reply.started": "2023-11-24T13:19:33.979249Z"
    }
   },
   "outputs": [
    {
     "ename": "OSError",
     "evalue": "[WinError 126] The specified module could not be found. Error loading \"C:\\Users\\rachi\\anaconda3\\Lib\\site-packages\\torch\\lib\\fbgemm.dll\" or one of its dependencies.",
     "output_type": "error",
     "traceback": [
      "\u001b[1;31m---------------------------------------------------------------------------\u001b[0m",
      "\u001b[1;31mOSError\u001b[0m                                   Traceback (most recent call last)",
      "Cell \u001b[1;32mIn[1], line 2\u001b[0m\n\u001b[0;32m      1\u001b[0m \u001b[38;5;28;01mimport\u001b[39;00m \u001b[38;5;21;01mos\u001b[39;00m\n\u001b[1;32m----> 2\u001b[0m \u001b[38;5;28;01mimport\u001b[39;00m \u001b[38;5;21;01mtorch\u001b[39;00m\n\u001b[0;32m      3\u001b[0m \u001b[38;5;28;01mimport\u001b[39;00m \u001b[38;5;21;01mtorchvision\u001b[39;00m\n\u001b[0;32m      4\u001b[0m \u001b[38;5;28;01mimport\u001b[39;00m \u001b[38;5;21;01mmatplotlib\u001b[39;00m\n",
      "File \u001b[1;32m~\\anaconda3\\Lib\\site-packages\\torch\\__init__.py:148\u001b[0m\n\u001b[0;32m    146\u001b[0m                 err \u001b[38;5;241m=\u001b[39m ctypes\u001b[38;5;241m.\u001b[39mWinError(ctypes\u001b[38;5;241m.\u001b[39mget_last_error())\n\u001b[0;32m    147\u001b[0m                 err\u001b[38;5;241m.\u001b[39mstrerror \u001b[38;5;241m+\u001b[39m\u001b[38;5;241m=\u001b[39m \u001b[38;5;124mf\u001b[39m\u001b[38;5;124m'\u001b[39m\u001b[38;5;124m Error loading \u001b[39m\u001b[38;5;124m\"\u001b[39m\u001b[38;5;132;01m{\u001b[39;00mdll\u001b[38;5;132;01m}\u001b[39;00m\u001b[38;5;124m\"\u001b[39m\u001b[38;5;124m or one of its dependencies.\u001b[39m\u001b[38;5;124m'\u001b[39m\n\u001b[1;32m--> 148\u001b[0m                 \u001b[38;5;28;01mraise\u001b[39;00m err\n\u001b[0;32m    150\u001b[0m     kernel32\u001b[38;5;241m.\u001b[39mSetErrorMode(prev_error_mode)\n\u001b[0;32m    153\u001b[0m \u001b[38;5;28;01mdef\u001b[39;00m \u001b[38;5;21m_preload_cuda_deps\u001b[39m(lib_folder, lib_name):\n",
      "\u001b[1;31mOSError\u001b[0m: [WinError 126] The specified module could not be found. Error loading \"C:\\Users\\rachi\\anaconda3\\Lib\\site-packages\\torch\\lib\\fbgemm.dll\" or one of its dependencies."
     ]
    }
   ],
   "source": [
    "import os\n",
    "import torch\n",
    "import torchvision\n",
    "import matplotlib\n",
    "import matplotlib.pyplot as plt\n",
    "from torch.utils.data import random_split\n",
    "from torchvision.datasets import ImageFolder\n",
    "from torchvision.transforms import ToTensor\n",
    "from torch.optim.lr_scheduler import StepLR\n",
    "import torchvision.transforms as tt\n",
    "from torch.utils.data.dataloader import DataLoader\n",
    "import torch.nn as nn\n",
    "import torch.nn.functional as F\n",
    "%matplotlib inline"
   ]
  },
  {
   "cell_type": "code",
   "execution_count": 2,
   "metadata": {
    "execution": {
     "iopub.execute_input": "2023-11-24T13:19:37.112312Z",
     "iopub.status.busy": "2023-11-24T13:19:37.111883Z",
     "iopub.status.idle": "2023-11-24T13:19:37.122959Z",
     "shell.execute_reply": "2023-11-24T13:19:37.122075Z",
     "shell.execute_reply.started": "2023-11-24T13:19:37.112284Z"
    }
   },
   "outputs": [
    {
     "name": "stdout",
     "output_type": "stream",
     "text": [
      "Expression Labels:  ['surprise', 'fear', 'neutral', 'sadness', 'disgust', 'happiness', 'anger']\n"
     ]
    }
   ],
   "source": [
    "datasetDir = \"/kaggle/input/micro-expressions/Micro_Expressions\"\n",
    "classes = os.listdir(datasetDir + \"/train\")\n",
    "print(\"Expression Labels: \",classes)\n",
    "\n",
    "# tfms = tt.Compose([\n",
    "#     tt.RandomResizedCrop(80, scale=(0.8, 1.0)),\n",
    "#     tt.RandomHorizontalFlip(),\n",
    "#     tt.RandomVerticalFlip(),\n",
    "#     tt.RandomRotation(20),\n",
    "#     tt.ColorJitter(brightness=0.2, contrast=0.2, saturation=0.2, hue=0.2),\n",
    "#     tt.RandomCrop(80, padding=15, padding_mode='reflect'),\n",
    "#     tt.ToTensor(),\n",
    "#     tt.Normalize(mean=[0.485, 0.456, 0.406], std=[0.229, 0.224, 0.225]),\n",
    "# ])\n",
    "# dataset1 = ImageFolder(datasetDir+\"/train\",tfms)\n",
    "# dataset2 = ImageFolder(datasetDir+\"/train\",transform=ToTensor())\n",
    "# dataset = dataset1+dataset2\n",
    "# dataset.classes = ['anger', 'disgust', 'fear', 'happiness', 'neutral', 'sadness', 'surprise']"
   ]
  },
  {
   "cell_type": "code",
   "execution_count": 3,
   "metadata": {
    "execution": {
     "iopub.execute_input": "2023-11-24T13:19:37.124413Z",
     "iopub.status.busy": "2023-11-24T13:19:37.124104Z",
     "iopub.status.idle": "2023-11-24T13:19:39.444328Z",
     "shell.execute_reply": "2023-11-24T13:19:39.443558Z",
     "shell.execute_reply.started": "2023-11-24T13:19:37.124389Z"
    }
   },
   "outputs": [],
   "source": [
    "# data augmentation\n",
    "tfmsOther = tt.Compose([tt.RandomCrop(80, padding=15, padding_mode='reflect'),\n",
    "                        tt.RandomHorizontalFlip(),\n",
    "                        tt.ToTensor()])\n",
    "tfmsOtherBlur = tt.Compose([tt.RandomCrop(80, padding=15, padding_mode='reflect'),\n",
    "                        tt.RandomHorizontalFlip(),tt.GaussianBlur(kernel_size=3, sigma=10),\n",
    "                        tt.ToTensor()])\n",
    "tfmsBlur = tt.Compose([tt.GaussianBlur(kernel_size=3, sigma=10),tt.ToTensor()])\n",
    "tfmsRotate = tt.Compose([tt.RandomRotation(degrees=(-45, 45)),tt.ToTensor()])\n",
    "tfmsRotateBlur = tt.Compose([tt.GaussianBlur(kernel_size=3, sigma=10),tt.RandomRotation(degrees=(-45, 45)),tt.ToTensor()])\n",
    "\n",
    "#Loading the dataset as pyTorch Tensors\n",
    "dataset1 = ImageFolder(datasetDir+\"/train\",transform=ToTensor()) #original\n",
    "dataset2 = ImageFolder(datasetDir+\"/train\",tfmsBlur) #original blur\n",
    "dataset3 = ImageFolder(datasetDir+\"/train\",tfmsRotate) #rotated\n",
    "dataset4 = ImageFolder(datasetDir+\"/train\",tfmsRotateBlur) #rotated blurred\n",
    "dataset5 = ImageFolder(datasetDir+\"/train\",tfmsOther) #other augments\n",
    "dataset6 = ImageFolder(datasetDir+\"/train\",tfmsOtherBlur) #other augments blurred\n",
    "#Combining normal and augmented datasets\n",
    "dataset = dataset1+dataset2+dataset3+dataset4+dataset5+dataset6\n",
    "dataset.classes = ['anger', 'disgust', 'fear', 'happiness', 'neutral', 'sadness', 'surprise']"
   ]
  },
  {
   "cell_type": "markdown",
   "metadata": {},
   "source": [
    "## Splitting of Trianing set"
   ]
  },
  {
   "cell_type": "code",
   "execution_count": 4,
   "metadata": {
    "execution": {
     "iopub.execute_input": "2023-11-24T13:19:39.446623Z",
     "iopub.status.busy": "2023-11-24T13:19:39.446334Z",
     "iopub.status.idle": "2023-11-24T13:19:39.471297Z",
     "shell.execute_reply": "2023-11-24T13:19:39.470592Z",
     "shell.execute_reply.started": "2023-11-24T13:19:39.446598Z"
    }
   },
   "outputs": [],
   "source": [
    "randomSeed = 3 \n",
    "torch.manual_seed(randomSeed)\n",
    "valSize = 2000\n",
    "trainSize = len(dataset)-valSize\n",
    "trainDS, valDS = random_split(dataset,[trainSize,valSize])"
   ]
  },
  {
   "cell_type": "code",
   "execution_count": 5,
   "metadata": {
    "execution": {
     "iopub.execute_input": "2023-11-24T13:19:39.472487Z",
     "iopub.status.busy": "2023-11-24T13:19:39.472225Z",
     "iopub.status.idle": "2023-11-24T13:19:39.478003Z",
     "shell.execute_reply": "2023-11-24T13:19:39.477165Z",
     "shell.execute_reply.started": "2023-11-24T13:19:39.472464Z"
    }
   },
   "outputs": [],
   "source": [
    "batchSize = 200\n",
    "trainDL = DataLoader(trainDS,batchSize,shuffle=True,num_workers=4, pin_memory=True)\n",
    "valDL = DataLoader(valDS,batchSize*2,num_workers=4, pin_memory=True)"
   ]
  },
  {
   "cell_type": "code",
   "execution_count": 6,
   "metadata": {
    "execution": {
     "iopub.execute_input": "2023-11-24T13:19:39.479352Z",
     "iopub.status.busy": "2023-11-24T13:19:39.479106Z",
     "iopub.status.idle": "2023-11-24T13:19:39.489188Z",
     "shell.execute_reply": "2023-11-24T13:19:39.488369Z",
     "shell.execute_reply.started": "2023-11-24T13:19:39.479331Z"
    }
   },
   "outputs": [],
   "source": [
    "def accuracy(outputs, labels):\n",
    "    _, preds = torch.max(outputs, dim=1)\n",
    "    return torch.tensor(torch.sum(preds == labels).item() / len(preds))\n",
    "\n",
    "class ImageClassificationBase(nn.Module):\n",
    "    def training_step(self, batch):\n",
    "        images, labels = batch \n",
    "        out = self(images)\n",
    "        loss = F.cross_entropy(out, labels)\n",
    "        return loss\n",
    "    \n",
    "    def validation_step(self, batch):\n",
    "        images, labels = batch \n",
    "        out = self(images)\n",
    "        loss = F.cross_entropy(out, labels)   \n",
    "        acc = accuracy(out, labels)\n",
    "        return {'val_loss': loss.detach(), 'val_acc': acc}\n",
    "        \n",
    "    def validation_epoch_end(self, outputs):\n",
    "        batch_losses = [x['val_loss'] for x in outputs]\n",
    "        epoch_loss = torch.stack(batch_losses).mean()\n",
    "        batch_accs = [x['val_acc'] for x in outputs]\n",
    "        epoch_acc = torch.stack(batch_accs).mean() \n",
    "        return {'val_loss': epoch_loss.item(), 'val_acc': epoch_acc.item()}\n",
    "    \n",
    "    def epoch_end(self, epoch, result):\n",
    "        print(\"Epoch {} , train_loss: {:.4f}, val_loss: {:.4f}, val_acc: {:.4f}\".format(\n",
    "            epoch, result['train_loss'], result['val_loss'], result['val_acc']))"
   ]
  },
  {
   "cell_type": "markdown",
   "metadata": {},
   "source": [
    "## CNN based Model"
   ]
  },
  {
   "cell_type": "code",
   "execution_count": 7,
   "metadata": {
    "execution": {
     "iopub.execute_input": "2023-11-24T13:19:39.491158Z",
     "iopub.status.busy": "2023-11-24T13:19:39.490455Z",
     "iopub.status.idle": "2023-11-24T13:19:39.501752Z",
     "shell.execute_reply": "2023-11-24T13:19:39.500989Z",
     "shell.execute_reply.started": "2023-11-24T13:19:39.491110Z"
    }
   },
   "outputs": [],
   "source": [
    "class ATTModel(ImageClassificationBase):\n",
    "    def __init__(self):\n",
    "        super().__init__()\n",
    "        self.network = nn.Sequential(\n",
    "            nn.Conv2d(3, 32, kernel_size=3, padding=1),\n",
    "            nn.ReLU(),\n",
    "            nn.BatchNorm2d(32),\n",
    "            nn.Conv2d(32, 64, kernel_size=3, stride=1, padding=1),\n",
    "            nn.ReLU(),\n",
    "            nn.BatchNorm2d(64),\n",
    "            nn.MaxPool2d(2, 2),\n",
    "\n",
    "            nn.Conv2d(64, 128, kernel_size=3, stride=1, padding=1),\n",
    "            nn.ReLU(),\n",
    "            nn.BatchNorm2d(128),\n",
    "            nn.Conv2d(128, 128, kernel_size=3, stride=1, padding=1),\n",
    "            nn.ReLU(),\n",
    "            nn.BatchNorm2d(128),\n",
    "            nn.MaxPool2d(2, 2),\n",
    "    \n",
    "            nn.Conv2d(128, 256, kernel_size=3, stride=1, padding=1),\n",
    "            nn.ReLU(),\n",
    "            nn.BatchNorm2d(256),\n",
    "            nn.Conv2d(256, 256, kernel_size=3, stride=1, padding=1),\n",
    "            nn.ReLU(),\n",
    "            nn.BatchNorm2d(256),\n",
    "            nn.MaxPool2d(2, 2),\n",
    "\n",
    "            nn.Dropout2d(p=0.5),\n",
    "    \n",
    "            nn.Flatten(),\n",
    "            nn.Linear(256*10*10, 1024),\n",
    "            nn.ReLU(),\n",
    "            nn.Linear(1024, 512),\n",
    "            nn.ReLU(),\n",
    "            nn.Linear(512, 10))\n",
    "            #nn.Softmax(-1)\n",
    "        \n",
    "    def forward(self, xb):\n",
    "        return self.network(xb)"
   ]
  },
  {
   "cell_type": "code",
   "execution_count": 8,
   "metadata": {
    "execution": {
     "iopub.execute_input": "2023-11-24T13:19:39.503248Z",
     "iopub.status.busy": "2023-11-24T13:19:39.502886Z",
     "iopub.status.idle": "2023-11-24T13:19:39.512334Z",
     "shell.execute_reply": "2023-11-24T13:19:39.511434Z",
     "shell.execute_reply.started": "2023-11-24T13:19:39.503217Z"
    }
   },
   "outputs": [],
   "source": [
    "# Weight initialization function\n",
    "def initialize_weights(m):\n",
    "    if isinstance(m, nn.Conv2d) or isinstance(m, nn.Linear):\n",
    "        nn.init.xavier_uniform_(m.weight)"
   ]
  },
  {
   "cell_type": "code",
   "execution_count": 9,
   "metadata": {
    "execution": {
     "iopub.execute_input": "2023-11-24T13:19:39.513653Z",
     "iopub.status.busy": "2023-11-24T13:19:39.513395Z",
     "iopub.status.idle": "2023-11-24T13:19:39.929106Z",
     "shell.execute_reply": "2023-11-24T13:19:39.928155Z",
     "shell.execute_reply.started": "2023-11-24T13:19:39.513631Z"
    }
   },
   "outputs": [
    {
     "name": "stdout",
     "output_type": "stream",
     "text": [
      "ATTModel(\n",
      "\n",
      "  (network): Sequential(\n",
      "\n",
      "    (0): Conv2d(3, 32, kernel_size=(3, 3), stride=(1, 1), padding=(1, 1))\n",
      "\n",
      "    (1): ReLU()\n",
      "\n",
      "    (2): BatchNorm2d(32, eps=1e-05, momentum=0.1, affine=True, track_running_stats=True)\n",
      "\n",
      "    (3): Conv2d(32, 64, kernel_size=(3, 3), stride=(1, 1), padding=(1, 1))\n",
      "\n",
      "    (4): ReLU()\n",
      "\n",
      "    (5): BatchNorm2d(64, eps=1e-05, momentum=0.1, affine=True, track_running_stats=True)\n",
      "\n",
      "    (6): MaxPool2d(kernel_size=2, stride=2, padding=0, dilation=1, ceil_mode=False)\n",
      "\n",
      "    (7): Conv2d(64, 128, kernel_size=(3, 3), stride=(1, 1), padding=(1, 1))\n",
      "\n",
      "    (8): ReLU()\n",
      "\n",
      "    (9): BatchNorm2d(128, eps=1e-05, momentum=0.1, affine=True, track_running_stats=True)\n",
      "\n",
      "    (10): Conv2d(128, 128, kernel_size=(3, 3), stride=(1, 1), padding=(1, 1))\n",
      "\n",
      "    (11): ReLU()\n",
      "\n",
      "    (12): BatchNorm2d(128, eps=1e-05, momentum=0.1, affine=True, track_running_stats=True)\n",
      "\n",
      "    (13): MaxPool2d(kernel_size=2, stride=2, padding=0, dilation=1, ceil_mode=False)\n",
      "\n",
      "    (14): Conv2d(128, 256, kernel_size=(3, 3), stride=(1, 1), padding=(1, 1))\n",
      "\n",
      "    (15): ReLU()\n",
      "\n",
      "    (16): BatchNorm2d(256, eps=1e-05, momentum=0.1, affine=True, track_running_stats=True)\n",
      "\n",
      "    (17): Conv2d(256, 256, kernel_size=(3, 3), stride=(1, 1), padding=(1, 1))\n",
      "\n",
      "    (18): ReLU()\n",
      "\n",
      "    (19): BatchNorm2d(256, eps=1e-05, momentum=0.1, affine=True, track_running_stats=True)\n",
      "\n",
      "    (20): MaxPool2d(kernel_size=2, stride=2, padding=0, dilation=1, ceil_mode=False)\n",
      "\n",
      "    (21): Dropout2d(p=0.5, inplace=False)\n",
      "\n",
      "    (22): Flatten(start_dim=1, end_dim=-1)\n",
      "\n",
      "    (23): Linear(in_features=25600, out_features=1024, bias=True)\n",
      "\n",
      "    (24): ReLU()\n",
      "\n",
      "    (25): Linear(in_features=1024, out_features=512, bias=True)\n",
      "\n",
      "    (26): ReLU()\n",
      "\n",
      "    (27): Linear(in_features=512, out_features=10, bias=True)\n",
      "\n",
      "  )\n",
      "\n",
      ")\n"
     ]
    }
   ],
   "source": [
    "# Model structure\n",
    "model = ATTModel()\n",
    "\n",
    "# Apply weight initialization to the model\n",
    "model.apply(initialize_weights)\n",
    "\n",
    "print(model)"
   ]
  },
  {
   "cell_type": "code",
   "execution_count": 10,
   "metadata": {
    "execution": {
     "iopub.execute_input": "2023-11-24T13:19:39.932453Z",
     "iopub.status.busy": "2023-11-24T13:19:39.932169Z",
     "iopub.status.idle": "2023-11-24T13:19:42.682030Z",
     "shell.execute_reply": "2023-11-24T13:19:42.681060Z",
     "shell.execute_reply.started": "2023-11-24T13:19:39.932429Z"
    }
   },
   "outputs": [],
   "source": [
    "def get_default_device():\n",
    "    if torch.cuda.is_available():\n",
    "        return torch.device('cuda')\n",
    "    else:\n",
    "        return torch.device('cpu')\n",
    "\n",
    "def to_device(data, device): \n",
    "    if isinstance(data, (list,tuple)):\n",
    "        return [to_device(x, device) for x in data]\n",
    "    return data.to(device, non_blocking=True)\n",
    "\n",
    "class DeviceDataLoader():\n",
    "    def __init__(self, dl, device):\n",
    "        self.dl = dl\n",
    "        self.device = device\n",
    "        \n",
    "    def __iter__(self):\n",
    "        for b in self.dl: \n",
    "            yield to_device(b, self.device)\n",
    "\n",
    "    def __len__(self):\n",
    "        return len(self.dl)\n",
    "\n",
    "device = get_default_device()\n",
    "train_dl = DeviceDataLoader(trainDL, device)\n",
    "val_dl = DeviceDataLoader(valDL, device)\n",
    "to_device(model, device);"
   ]
  },
  {
   "cell_type": "code",
   "execution_count": 11,
   "metadata": {
    "execution": {
     "iopub.execute_input": "2023-11-24T13:19:42.683762Z",
     "iopub.status.busy": "2023-11-24T13:19:42.683385Z",
     "iopub.status.idle": "2023-11-24T13:19:42.692739Z",
     "shell.execute_reply": "2023-11-24T13:19:42.691540Z",
     "shell.execute_reply.started": "2023-11-24T13:19:42.683724Z"
    }
   },
   "outputs": [],
   "source": [
    "@torch.no_grad()\n",
    "def evaluate(model, val_loader):\n",
    "    model.eval()\n",
    "    outputs = [model.validation_step(batch) for batch in val_loader]\n",
    "    return model.validation_epoch_end(outputs)\n",
    "\n",
    "def fit(epochs, lr, model, train_loader, val_loader, opt_func=torch.optim.SGD):\n",
    "    history = []\n",
    "    optimizer = opt_func(model.parameters(), lr)\n",
    "    for epoch in range(epochs):\n",
    "        \n",
    "        model.train()\n",
    "        train_losses = []\n",
    "        for batch in train_loader:\n",
    "            loss = model.training_step(batch)\n",
    "            train_losses.append(loss)\n",
    "            loss.backward()\n",
    "            optimizer.step()\n",
    "            optimizer.zero_grad()\n",
    "\n",
    "        result = evaluate(model, val_loader)\n",
    "        result['train_loss'] = torch.stack(train_losses).mean().item()\n",
    "        model.epoch_end(epoch, result)\n",
    "        history.append(result)\n",
    "        \n",
    "    return history"
   ]
  },
  {
   "cell_type": "markdown",
   "metadata": {},
   "source": [
    "## Model Training"
   ]
  },
  {
   "cell_type": "code",
   "execution_count": 12,
   "metadata": {
    "execution": {
     "iopub.execute_input": "2023-11-24T13:19:42.694224Z",
     "iopub.status.busy": "2023-11-24T13:19:42.693954Z",
     "iopub.status.idle": "2023-11-24T13:48:56.916472Z",
     "shell.execute_reply": "2023-11-24T13:48:56.915326Z",
     "shell.execute_reply.started": "2023-11-24T13:19:42.694201Z"
    }
   },
   "outputs": [
    {
     "name": "stdout",
     "output_type": "stream",
     "text": [
      "Epoch 0 , train_loss: 1.6367, val_loss: 1.2551, val_acc: 0.5330\n",
      "\n",
      "Epoch 1 , train_loss: 1.1134, val_loss: 0.9501, val_acc: 0.6500\n",
      "\n",
      "Epoch 2 , train_loss: 0.8616, val_loss: 0.8400, val_acc: 0.6930\n",
      "\n",
      "Epoch 3 , train_loss: 0.7060, val_loss: 0.7227, val_acc: 0.7535\n",
      "\n",
      "Epoch 4 , train_loss: 0.5955, val_loss: 0.6125, val_acc: 0.7770\n",
      "\n",
      "Epoch 5 , train_loss: 0.5214, val_loss: 0.5619, val_acc: 0.8100\n",
      "\n",
      "Epoch 6 , train_loss: 0.4676, val_loss: 0.5044, val_acc: 0.8300\n",
      "\n",
      "Epoch 7 , train_loss: 0.4264, val_loss: 0.4432, val_acc: 0.8520\n",
      "\n",
      "Epoch 8 , train_loss: 0.3923, val_loss: 0.4107, val_acc: 0.8565\n",
      "\n",
      "Epoch 9 , train_loss: 0.3651, val_loss: 0.4082, val_acc: 0.8610\n",
      "\n",
      "Epoch 10 , train_loss: 0.3424, val_loss: 0.3805, val_acc: 0.8760\n",
      "\n",
      "Epoch 11 , train_loss: 0.3216, val_loss: 0.3628, val_acc: 0.8785\n",
      "\n",
      "Epoch 12 , train_loss: 0.3056, val_loss: 0.3291, val_acc: 0.8905\n",
      "\n",
      "Epoch 13 , train_loss: 0.2898, val_loss: 0.3303, val_acc: 0.8885\n",
      "\n",
      "Epoch 14 , train_loss: 0.2705, val_loss: 0.3350, val_acc: 0.8860\n",
      "\n",
      "Epoch 15 , train_loss: 0.2655, val_loss: 0.3091, val_acc: 0.8955\n",
      "\n",
      "Epoch 16 , train_loss: 0.2615, val_loss: 0.3793, val_acc: 0.8660\n",
      "\n",
      "Epoch 17 , train_loss: 0.2499, val_loss: 0.2796, val_acc: 0.9105\n",
      "\n",
      "Epoch 18 , train_loss: 0.2411, val_loss: 0.2914, val_acc: 0.8975\n",
      "\n",
      "Epoch 19 , train_loss: 0.2301, val_loss: 0.2365, val_acc: 0.9170\n",
      "\n",
      "Epoch 20 , train_loss: 0.2209, val_loss: 0.2641, val_acc: 0.9100\n",
      "\n",
      "Epoch 21 , train_loss: 0.2147, val_loss: 0.2267, val_acc: 0.9260\n",
      "\n",
      "Epoch 22 , train_loss: 0.2106, val_loss: 0.2506, val_acc: 0.9175\n",
      "\n",
      "Epoch 23 , train_loss: 0.2068, val_loss: 0.2312, val_acc: 0.9185\n",
      "\n",
      "Epoch 24 , train_loss: 0.1956, val_loss: 0.2578, val_acc: 0.9165\n",
      "\n",
      "Epoch 25 , train_loss: 0.1959, val_loss: 0.2332, val_acc: 0.9190\n",
      "\n",
      "Epoch 26 , train_loss: 0.1934, val_loss: 0.2298, val_acc: 0.9215\n",
      "\n",
      "Epoch 27 , train_loss: 0.1810, val_loss: 0.2447, val_acc: 0.9260\n",
      "\n",
      "Epoch 28 , train_loss: 0.1806, val_loss: 0.2370, val_acc: 0.9135\n",
      "\n",
      "Epoch 29 , train_loss: 0.1824, val_loss: 0.2126, val_acc: 0.9255\n",
      "\n",
      "Epoch 30 , train_loss: 0.1729, val_loss: 0.2301, val_acc: 0.9300\n",
      "\n",
      "Epoch 31 , train_loss: 0.1673, val_loss: 0.2617, val_acc: 0.9150\n",
      "\n",
      "Epoch 32 , train_loss: 0.1717, val_loss: 0.3870, val_acc: 0.8815\n",
      "\n",
      "Epoch 33 , train_loss: 0.1644, val_loss: 0.1880, val_acc: 0.9390\n",
      "\n",
      "Epoch 34 , train_loss: 0.1595, val_loss: 0.3008, val_acc: 0.8990\n",
      "\n",
      "Epoch 35 , train_loss: 0.1613, val_loss: 0.2261, val_acc: 0.9310\n",
      "\n",
      "Epoch 36 , train_loss: 0.1517, val_loss: 0.2008, val_acc: 0.9385\n",
      "\n",
      "Epoch 37 , train_loss: 0.1523, val_loss: 0.2356, val_acc: 0.9255\n",
      "\n",
      "Epoch 38 , train_loss: 0.1448, val_loss: 0.1775, val_acc: 0.9410\n",
      "\n",
      "Epoch 39 , train_loss: 0.1444, val_loss: 0.1792, val_acc: 0.9420\n",
      "\n",
      "Epoch 40 , train_loss: 0.1346, val_loss: 0.1974, val_acc: 0.9385\n",
      "\n",
      "Epoch 41 , train_loss: 0.1384, val_loss: 0.1742, val_acc: 0.9450\n",
      "\n",
      "Epoch 42 , train_loss: 0.1377, val_loss: 0.1827, val_acc: 0.9355\n",
      "\n",
      "Epoch 43 , train_loss: 0.1348, val_loss: 0.1615, val_acc: 0.9480\n",
      "\n",
      "Epoch 44 , train_loss: 0.1287, val_loss: 0.1747, val_acc: 0.9430\n",
      "\n",
      "Epoch 45 , train_loss: 0.1264, val_loss: 0.2012, val_acc: 0.9380\n",
      "\n",
      "Epoch 46 , train_loss: 0.1360, val_loss: 0.2314, val_acc: 0.9260\n",
      "\n",
      "Epoch 47 , train_loss: 0.1287, val_loss: 0.1807, val_acc: 0.9425\n",
      "\n",
      "Epoch 48 , train_loss: 0.1213, val_loss: 0.1899, val_acc: 0.9385\n",
      "\n",
      "Epoch 49 , train_loss: 0.1259, val_loss: 0.1571, val_acc: 0.9485\n"
     ]
    }
   ],
   "source": [
    "model = to_device(ATTModel(), device)\n",
    "num_epochs = 50\n",
    "opt_func = torch.optim.Adam\n",
    "lr = 0.001\n",
    "history = fit(num_epochs, lr, model, train_dl, val_dl, opt_func)"
   ]
  },
  {
   "cell_type": "markdown",
   "metadata": {},
   "source": [
    "## verification of the accuracy"
   ]
  },
  {
   "cell_type": "code",
   "execution_count": 13,
   "metadata": {
    "execution": {
     "iopub.execute_input": "2023-11-24T13:48:56.919147Z",
     "iopub.status.busy": "2023-11-24T13:48:56.918334Z",
     "iopub.status.idle": "2023-11-24T13:48:57.231710Z",
     "shell.execute_reply": "2023-11-24T13:48:57.230840Z",
     "shell.execute_reply.started": "2023-11-24T13:48:56.919090Z"
    }
   },
   "outputs": [
    {
     "data": {
      "image/png": "[encoded data removed]",
      "text/plain": [
       "<Figure size 640x480 with 1 Axes>"
      ]
     },
     "metadata": {},
     "output_type": "display_data"
    }
   ],
   "source": [
    "def plot_accuracies(history):\n",
    "    accuracies = [x['val_acc'] for x in history]\n",
    "    plt.plot(accuracies, '-x')\n",
    "    plt.xlabel('epoch')\n",
    "    plt.ylabel('accuracy')\n",
    "    plt.title('Accuracy vs. No. of epochs')\n",
    "\n",
    "plot_accuracies(history)"
   ]
  },
  {
   "cell_type": "code",
   "execution_count": 14,
   "metadata": {
    "execution": {
     "iopub.execute_input": "2023-11-24T13:48:57.233232Z",
     "iopub.status.busy": "2023-11-24T13:48:57.232937Z",
     "iopub.status.idle": "2023-11-24T13:48:57.238975Z",
     "shell.execute_reply": "2023-11-24T13:48:57.238128Z",
     "shell.execute_reply.started": "2023-11-24T13:48:57.233208Z"
    }
   },
   "outputs": [],
   "source": [
    "# Training and validation loss\n",
    "def plot_losses(history):\n",
    "    train_losses = [x.get('train_loss') for x in history]\n",
    "    val_losses = [x['val_loss'] for x in history]\n",
    "    plt.plot(train_losses, '-bx')\n",
    "    plt.plot(val_losses, '-rx')\n",
    "    plt.xlabel('epoch')\n",
    "    plt.ylabel('loss')\n",
    "    plt.legend(['Training', 'Validation'])\n",
    "    plt.title('Loss vs. No. of epochs');"
   ]
  },
  {
   "cell_type": "code",
   "execution_count": 15,
   "metadata": {
    "execution": {
     "iopub.execute_input": "2023-11-24T13:48:57.240506Z",
     "iopub.status.busy": "2023-11-24T13:48:57.240185Z",
     "iopub.status.idle": "2023-11-24T13:48:57.585215Z",
     "shell.execute_reply": "2023-11-24T13:48:57.584346Z",
     "shell.execute_reply.started": "2023-11-24T13:48:57.240475Z"
    }
   },
   "outputs": [
    {
     "data": {
      "image/png": "[encoded data removed]",
      "text/plain": [
       "<Figure size 640x480 with 1 Axes>"
      ]
     },
     "metadata": {},
     "output_type": "display_data"
    }
   ],
   "source": [
    "plot_losses(history)"
   ]
  },
  {
   "cell_type": "code",
   "execution_count": 16,
   "metadata": {
    "execution": {
     "iopub.execute_input": "2023-11-24T13:48:57.586718Z",
     "iopub.status.busy": "2023-11-24T13:48:57.586423Z",
     "iopub.status.idle": "2023-11-24T13:48:57.592040Z",
     "shell.execute_reply": "2023-11-24T13:48:57.591106Z",
     "shell.execute_reply.started": "2023-11-24T13:48:57.586692Z"
    }
   },
   "outputs": [],
   "source": [
    "def predict_image(image, model):\n",
    "    xb = to_device(image.unsqueeze(0), device)  \n",
    "    yb = model(xb)\n",
    "    _, preds  = torch.max(yb, dim=1) \n",
    "    return dataset.classes[preds[0].item()]"
   ]
  },
  {
   "cell_type": "code",
   "execution_count": 17,
   "metadata": {
    "execution": {
     "iopub.execute_input": "2023-11-24T13:48:57.593573Z",
     "iopub.status.busy": "2023-11-24T13:48:57.593251Z",
     "iopub.status.idle": "2023-11-24T13:48:58.475820Z",
     "shell.execute_reply": "2023-11-24T13:48:58.474857Z",
     "shell.execute_reply.started": "2023-11-24T13:48:57.593549Z"
    }
   },
   "outputs": [
    {
     "name": "stdout",
     "output_type": "stream",
     "text": [
      "Label: anger , Predicted: anger\n"
     ]
    },
    {
     "data": {
      "image/png": "[encoded data removed]",
      "text/plain": [
       "<Figure size 640x480 with 1 Axes>"
      ]
     },
     "metadata": {},
     "output_type": "display_data"
    }
   ],
   "source": [
    "test_dataset = ImageFolder(datasetDir+'/test', transform=ToTensor())\n",
    "image, label = test_dataset[69]\n",
    "plt.imshow(image.permute(1, 2, 0))\n",
    "print('Label:', test_dataset.classes[label], ', Predicted:', predict_image(image, model))\n"
   ]
  },
  {
   "cell_type": "code",
   "execution_count": 18,
   "metadata": {
    "execution": {
     "iopub.execute_input": "2023-11-24T13:48:58.478457Z",
     "iopub.status.busy": "2023-11-24T13:48:58.477086Z",
     "iopub.status.idle": "2023-11-24T13:48:58.762540Z",
     "shell.execute_reply": "2023-11-24T13:48:58.761636Z",
     "shell.execute_reply.started": "2023-11-24T13:48:58.478429Z"
    }
   },
   "outputs": [
    {
     "name": "stdout",
     "output_type": "stream",
     "text": [
      "Label: anger , Predicted: anger\n"
     ]
    },
    {
     "data": {
      "image/png": "[encoded data removed]",
      "text/plain": [
       "<Figure size 640x480 with 1 Axes>"
      ]
     },
     "metadata": {},
     "output_type": "display_data"
    }
   ],
   "source": [
    "image, label = test_dataset[150]\n",
    "plt.imshow(image.permute(1, 2, 0))\n",
    "print('Label:', test_dataset.classes[label], ', Predicted:', predict_image(image, model))"
   ]
  },
  {
   "cell_type": "markdown",
   "metadata": {},
   "source": [
    "## Testing accuracy of the model"
   ]
  },
  {
   "cell_type": "code",
   "execution_count": 19,
   "metadata": {
    "execution": {
     "iopub.execute_input": "2023-11-24T13:48:58.764071Z",
     "iopub.status.busy": "2023-11-24T13:48:58.763779Z",
     "iopub.status.idle": "2023-11-24T13:49:05.098850Z",
     "shell.execute_reply": "2023-11-24T13:49:05.097903Z",
     "shell.execute_reply.started": "2023-11-24T13:48:58.764045Z"
    }
   },
   "outputs": [
    {
     "name": "stdout",
     "output_type": "stream",
     "text": [
      "test loss: 1.008118987083435\n",
      "\n",
      "test accuracy: 0.8503077626228333\n"
     ]
    }
   ],
   "source": [
    "test_loader = DeviceDataLoader(DataLoader(test_dataset, batchSize*2), device)\n",
    "result = evaluate(model, test_loader)\n",
    "print(\"test loss:\",result['val_loss'])\n",
    "print(\"test accuracy:\",result['val_acc'])"
   ]
  },
  {
   "cell_type": "code",
   "execution_count": 20,
   "metadata": {
    "execution": {
     "iopub.execute_input": "2023-11-24T13:49:05.100584Z",
     "iopub.status.busy": "2023-11-24T13:49:05.100200Z",
     "iopub.status.idle": "2023-11-24T13:49:05.330558Z",
     "shell.execute_reply": "2023-11-24T13:49:05.329731Z",
     "shell.execute_reply.started": "2023-11-24T13:49:05.100548Z"
    }
   },
   "outputs": [],
   "source": [
    "torch.save(model.state_dict(),'mode.pth')"
   ]
  },
  {
   "cell_type": "code",
   "execution_count": 21,
   "metadata": {
    "execution": {
     "iopub.execute_input": "2023-11-24T13:49:05.331981Z",
     "iopub.status.busy": "2023-11-24T13:49:05.331696Z",
     "iopub.status.idle": "2023-11-24T13:49:05.704774Z",
     "shell.execute_reply": "2023-11-24T13:49:05.703820Z",
     "shell.execute_reply.started": "2023-11-24T13:49:05.331956Z"
    }
   },
   "outputs": [
    {
     "data": {
      "text/plain": [
       "<All keys matched successfully>"
      ]
     },
     "execution_count": 21,
     "metadata": {},
     "output_type": "execute_result"
    }
   ],
   "source": [
    "modelSaved = to_device(ATTModel(),device)\n",
    "modelSaved.load_state_dict(torch.load('mode.pth'))"
   ]
  }
 ],
 "metadata": {
  "kaggle": {
   "accelerator": "gpu",
   "dataSources": [
    {
     "datasetId": 2014539,
     "sourceId": 3527097,
     "sourceType": "datasetVersion"
    }
   ],
   "dockerImageVersionId": 30588,
   "isGpuEnabled": true,
   "isInternetEnabled": true,
   "language": "python",
   "sourceType": "notebook"
  },
  "kernelspec": {
   "display_name": "Python 3 (ipykernel)",
   "language": "python",
   "name": "python3"
  },
  "language_info": {
   "codemirror_mode": {
    "name": "ipython",
    "version": 3
   },
   "file_extension": ".py",
   "mimetype": "text/x-python",
   "name": "python",
   "nbconvert_exporter": "python",
   "pygments_lexer": "ipython3",
   "version": "3.11.5"
  }
 },
 "nbformat": 4,
 "nbformat_minor": 4
}
